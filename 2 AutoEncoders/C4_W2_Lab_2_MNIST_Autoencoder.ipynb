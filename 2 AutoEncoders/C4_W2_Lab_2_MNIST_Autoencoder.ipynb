{
  "nbformat": 4,
  "nbformat_minor": 0,
  "metadata": {
    "colab": {
      "provenance": [],
      "gpuType": "T4"
    },
    "kernelspec": {
      "name": "python3",
      "display_name": "Python 3"
    },
    "accelerator": "GPU",
    "widgets": {
      "application/vnd.jupyter.widget-state+json": {
        "6e6676a54eec4c8d810cd860c4cbba9f": {
          "model_module": "@jupyter-widgets/controls",
          "model_name": "HBoxModel",
          "model_module_version": "1.5.0",
          "state": {
            "_dom_classes": [],
            "_model_module": "@jupyter-widgets/controls",
            "_model_module_version": "1.5.0",
            "_model_name": "HBoxModel",
            "_view_count": null,
            "_view_module": "@jupyter-widgets/controls",
            "_view_module_version": "1.5.0",
            "_view_name": "HBoxView",
            "box_style": "",
            "children": [
              "IPY_MODEL_53eb9c6daf274b7cb556d61e91456437",
              "IPY_MODEL_e4613c0d1537434a9166d22e0569e486",
              "IPY_MODEL_45031283185c4f36af6bd112a10892a5"
            ],
            "layout": "IPY_MODEL_7aa8d2dbcc974e3b8788d6e4c61664c6"
          }
        },
        "53eb9c6daf274b7cb556d61e91456437": {
          "model_module": "@jupyter-widgets/controls",
          "model_name": "HTMLModel",
          "model_module_version": "1.5.0",
          "state": {
            "_dom_classes": [],
            "_model_module": "@jupyter-widgets/controls",
            "_model_module_version": "1.5.0",
            "_model_name": "HTMLModel",
            "_view_count": null,
            "_view_module": "@jupyter-widgets/controls",
            "_view_module_version": "1.5.0",
            "_view_name": "HTMLView",
            "description": "",
            "description_tooltip": null,
            "layout": "IPY_MODEL_f6b284c2ae3545fe80feda31a6904f77",
            "placeholder": "​",
            "style": "IPY_MODEL_85fd31daaf18478095ff7378a4097b94",
            "value": "Dl Completed...: 100%"
          }
        },
        "e4613c0d1537434a9166d22e0569e486": {
          "model_module": "@jupyter-widgets/controls",
          "model_name": "FloatProgressModel",
          "model_module_version": "1.5.0",
          "state": {
            "_dom_classes": [],
            "_model_module": "@jupyter-widgets/controls",
            "_model_module_version": "1.5.0",
            "_model_name": "FloatProgressModel",
            "_view_count": null,
            "_view_module": "@jupyter-widgets/controls",
            "_view_module_version": "1.5.0",
            "_view_name": "ProgressView",
            "bar_style": "success",
            "description": "",
            "description_tooltip": null,
            "layout": "IPY_MODEL_aadf03ae18ec4785a9b743cd8ee97744",
            "max": 5,
            "min": 0,
            "orientation": "horizontal",
            "style": "IPY_MODEL_931f72f6a4ef4d7a979c9d87128dab86",
            "value": 5
          }
        },
        "45031283185c4f36af6bd112a10892a5": {
          "model_module": "@jupyter-widgets/controls",
          "model_name": "HTMLModel",
          "model_module_version": "1.5.0",
          "state": {
            "_dom_classes": [],
            "_model_module": "@jupyter-widgets/controls",
            "_model_module_version": "1.5.0",
            "_model_name": "HTMLModel",
            "_view_count": null,
            "_view_module": "@jupyter-widgets/controls",
            "_view_module_version": "1.5.0",
            "_view_name": "HTMLView",
            "description": "",
            "description_tooltip": null,
            "layout": "IPY_MODEL_c1359c0fa8a54c86bb27245c9144c2dd",
            "placeholder": "​",
            "style": "IPY_MODEL_085effc106da4fbcb113581fe08c4785",
            "value": " 5/5 [00:00&lt;00:00,  5.98 file/s]"
          }
        },
        "7aa8d2dbcc974e3b8788d6e4c61664c6": {
          "model_module": "@jupyter-widgets/base",
          "model_name": "LayoutModel",
          "model_module_version": "1.2.0",
          "state": {
            "_model_module": "@jupyter-widgets/base",
            "_model_module_version": "1.2.0",
            "_model_name": "LayoutModel",
            "_view_count": null,
            "_view_module": "@jupyter-widgets/base",
            "_view_module_version": "1.2.0",
            "_view_name": "LayoutView",
            "align_content": null,
            "align_items": null,
            "align_self": null,
            "border": null,
            "bottom": null,
            "display": null,
            "flex": null,
            "flex_flow": null,
            "grid_area": null,
            "grid_auto_columns": null,
            "grid_auto_flow": null,
            "grid_auto_rows": null,
            "grid_column": null,
            "grid_gap": null,
            "grid_row": null,
            "grid_template_areas": null,
            "grid_template_columns": null,
            "grid_template_rows": null,
            "height": null,
            "justify_content": null,
            "justify_items": null,
            "left": null,
            "margin": null,
            "max_height": null,
            "max_width": null,
            "min_height": null,
            "min_width": null,
            "object_fit": null,
            "object_position": null,
            "order": null,
            "overflow": null,
            "overflow_x": null,
            "overflow_y": null,
            "padding": null,
            "right": null,
            "top": null,
            "visibility": null,
            "width": null
          }
        },
        "f6b284c2ae3545fe80feda31a6904f77": {
          "model_module": "@jupyter-widgets/base",
          "model_name": "LayoutModel",
          "model_module_version": "1.2.0",
          "state": {
            "_model_module": "@jupyter-widgets/base",
            "_model_module_version": "1.2.0",
            "_model_name": "LayoutModel",
            "_view_count": null,
            "_view_module": "@jupyter-widgets/base",
            "_view_module_version": "1.2.0",
            "_view_name": "LayoutView",
            "align_content": null,
            "align_items": null,
            "align_self": null,
            "border": null,
            "bottom": null,
            "display": null,
            "flex": null,
            "flex_flow": null,
            "grid_area": null,
            "grid_auto_columns": null,
            "grid_auto_flow": null,
            "grid_auto_rows": null,
            "grid_column": null,
            "grid_gap": null,
            "grid_row": null,
            "grid_template_areas": null,
            "grid_template_columns": null,
            "grid_template_rows": null,
            "height": null,
            "justify_content": null,
            "justify_items": null,
            "left": null,
            "margin": null,
            "max_height": null,
            "max_width": null,
            "min_height": null,
            "min_width": null,
            "object_fit": null,
            "object_position": null,
            "order": null,
            "overflow": null,
            "overflow_x": null,
            "overflow_y": null,
            "padding": null,
            "right": null,
            "top": null,
            "visibility": null,
            "width": null
          }
        },
        "85fd31daaf18478095ff7378a4097b94": {
          "model_module": "@jupyter-widgets/controls",
          "model_name": "DescriptionStyleModel",
          "model_module_version": "1.5.0",
          "state": {
            "_model_module": "@jupyter-widgets/controls",
            "_model_module_version": "1.5.0",
            "_model_name": "DescriptionStyleModel",
            "_view_count": null,
            "_view_module": "@jupyter-widgets/base",
            "_view_module_version": "1.2.0",
            "_view_name": "StyleView",
            "description_width": ""
          }
        },
        "aadf03ae18ec4785a9b743cd8ee97744": {
          "model_module": "@jupyter-widgets/base",
          "model_name": "LayoutModel",
          "model_module_version": "1.2.0",
          "state": {
            "_model_module": "@jupyter-widgets/base",
            "_model_module_version": "1.2.0",
            "_model_name": "LayoutModel",
            "_view_count": null,
            "_view_module": "@jupyter-widgets/base",
            "_view_module_version": "1.2.0",
            "_view_name": "LayoutView",
            "align_content": null,
            "align_items": null,
            "align_self": null,
            "border": null,
            "bottom": null,
            "display": null,
            "flex": null,
            "flex_flow": null,
            "grid_area": null,
            "grid_auto_columns": null,
            "grid_auto_flow": null,
            "grid_auto_rows": null,
            "grid_column": null,
            "grid_gap": null,
            "grid_row": null,
            "grid_template_areas": null,
            "grid_template_columns": null,
            "grid_template_rows": null,
            "height": null,
            "justify_content": null,
            "justify_items": null,
            "left": null,
            "margin": null,
            "max_height": null,
            "max_width": null,
            "min_height": null,
            "min_width": null,
            "object_fit": null,
            "object_position": null,
            "order": null,
            "overflow": null,
            "overflow_x": null,
            "overflow_y": null,
            "padding": null,
            "right": null,
            "top": null,
            "visibility": null,
            "width": null
          }
        },
        "931f72f6a4ef4d7a979c9d87128dab86": {
          "model_module": "@jupyter-widgets/controls",
          "model_name": "ProgressStyleModel",
          "model_module_version": "1.5.0",
          "state": {
            "_model_module": "@jupyter-widgets/controls",
            "_model_module_version": "1.5.0",
            "_model_name": "ProgressStyleModel",
            "_view_count": null,
            "_view_module": "@jupyter-widgets/base",
            "_view_module_version": "1.2.0",
            "_view_name": "StyleView",
            "bar_color": null,
            "description_width": ""
          }
        },
        "c1359c0fa8a54c86bb27245c9144c2dd": {
          "model_module": "@jupyter-widgets/base",
          "model_name": "LayoutModel",
          "model_module_version": "1.2.0",
          "state": {
            "_model_module": "@jupyter-widgets/base",
            "_model_module_version": "1.2.0",
            "_model_name": "LayoutModel",
            "_view_count": null,
            "_view_module": "@jupyter-widgets/base",
            "_view_module_version": "1.2.0",
            "_view_name": "LayoutView",
            "align_content": null,
            "align_items": null,
            "align_self": null,
            "border": null,
            "bottom": null,
            "display": null,
            "flex": null,
            "flex_flow": null,
            "grid_area": null,
            "grid_auto_columns": null,
            "grid_auto_flow": null,
            "grid_auto_rows": null,
            "grid_column": null,
            "grid_gap": null,
            "grid_row": null,
            "grid_template_areas": null,
            "grid_template_columns": null,
            "grid_template_rows": null,
            "height": null,
            "justify_content": null,
            "justify_items": null,
            "left": null,
            "margin": null,
            "max_height": null,
            "max_width": null,
            "min_height": null,
            "min_width": null,
            "object_fit": null,
            "object_position": null,
            "order": null,
            "overflow": null,
            "overflow_x": null,
            "overflow_y": null,
            "padding": null,
            "right": null,
            "top": null,
            "visibility": null,
            "width": null
          }
        },
        "085effc106da4fbcb113581fe08c4785": {
          "model_module": "@jupyter-widgets/controls",
          "model_name": "DescriptionStyleModel",
          "model_module_version": "1.5.0",
          "state": {
            "_model_module": "@jupyter-widgets/controls",
            "_model_module_version": "1.5.0",
            "_model_name": "DescriptionStyleModel",
            "_view_count": null,
            "_view_module": "@jupyter-widgets/base",
            "_view_module_version": "1.2.0",
            "_view_name": "StyleView",
            "description_width": ""
          }
        }
      }
    }
  },
  "cells": [
    {
      "cell_type": "markdown",
      "metadata": {
        "id": "nBXbFax4YP34"
      },
      "source": [
        "## Ungraded Lab: MNIST Autoencoder\n",
        "\n",
        "You will now work on an autoencoder that works on the [MNIST dataset](https://www.tensorflow.org/datasets/catalog/mnist). This will encode the inputs to lower resolution images. The decoder should then be able to generate the original input from this compressed representation."
      ]
    },
    {
      "cell_type": "markdown",
      "metadata": {
        "id": "9ZYaLxnBYUKA"
      },
      "source": [
        "## Imports"
      ]
    },
    {
      "cell_type": "code",
      "metadata": {
        "id": "3EXwoz-KHtWO",
        "colab": {
          "base_uri": "https://localhost:8080/"
        },
        "outputId": "eb2ff64d-63cb-420f-d51e-46ca70665e77"
      },
      "source": [
        "try:\n",
        "  # %tensorflow_version only exists in Colab.\n",
        "  %tensorflow_version 2.x\n",
        "except Exception:\n",
        "  pass\n",
        "\n",
        "import tensorflow as tf\n",
        "import tensorflow_datasets as tfds\n",
        "\n",
        "import numpy as np\n",
        "import matplotlib.pyplot as plt"
      ],
      "execution_count": 1,
      "outputs": [
        {
          "output_type": "stream",
          "name": "stdout",
          "text": [
            "Colab only includes TensorFlow 2.x; %tensorflow_version has no effect.\n"
          ]
        }
      ]
    },
    {
      "cell_type": "markdown",
      "metadata": {
        "id": "Is05FyRgYX0c"
      },
      "source": [
        "## Prepare the Dataset"
      ]
    },
    {
      "cell_type": "markdown",
      "metadata": {
        "id": "Xuhe2ksPI8A0"
      },
      "source": [
        "You will load the MNIST data from TFDS into train and test sets. Let's first define a preprocessing function for normalizing and flattening the images. Since we'll be training an autoencoder, this will return `image, image` because the input will also be the target or label while training.\n"
      ]
    },
    {
      "cell_type": "code",
      "metadata": {
        "id": "t9F7YsCNIKSA"
      },
      "source": [
        "def map_image(image, label):\n",
        "  '''Normalizes and flattens the image. Returns image as input and label.'''\n",
        "  image = tf.cast(image, dtype=tf.float32)\n",
        "  image = image / 255.0\n",
        "  image = tf.reshape(image, shape=(784,))\n",
        "\n",
        "  return image, image"
      ],
      "execution_count": 2,
      "outputs": []
    },
    {
      "cell_type": "code",
      "metadata": {
        "id": "08I1mbYSLbsC",
        "colab": {
          "base_uri": "https://localhost:8080/",
          "height": 84,
          "referenced_widgets": [
            "6e6676a54eec4c8d810cd860c4cbba9f",
            "53eb9c6daf274b7cb556d61e91456437",
            "e4613c0d1537434a9166d22e0569e486",
            "45031283185c4f36af6bd112a10892a5",
            "7aa8d2dbcc974e3b8788d6e4c61664c6",
            "f6b284c2ae3545fe80feda31a6904f77",
            "85fd31daaf18478095ff7378a4097b94",
            "aadf03ae18ec4785a9b743cd8ee97744",
            "931f72f6a4ef4d7a979c9d87128dab86",
            "c1359c0fa8a54c86bb27245c9144c2dd",
            "085effc106da4fbcb113581fe08c4785"
          ]
        },
        "outputId": "49e49595-b52a-42f1-83d0-61c809339a84"
      },
      "source": [
        "# Load the train and test sets from TFDS\n",
        "\n",
        "BATCH_SIZE = 128\n",
        "SHUFFLE_BUFFER_SIZE = 1024\n",
        "\n",
        "train_dataset = tfds.load('mnist', as_supervised=True, split=\"train\")\n",
        "train_dataset = train_dataset.map(map_image)\n",
        "train_dataset = train_dataset.shuffle(SHUFFLE_BUFFER_SIZE).batch(BATCH_SIZE).repeat()\n",
        "\n",
        "test_dataset = tfds.load('mnist', as_supervised=True, split=\"test\")\n",
        "test_dataset = test_dataset.map(map_image)\n",
        "test_dataset = test_dataset.batch(BATCH_SIZE).repeat()"
      ],
      "execution_count": 3,
      "outputs": [
        {
          "output_type": "stream",
          "name": "stdout",
          "text": [
            "Downloading and preparing dataset 11.06 MiB (download: 11.06 MiB, generated: 21.00 MiB, total: 32.06 MiB) to /root/tensorflow_datasets/mnist/3.0.1...\n"
          ]
        },
        {
          "output_type": "display_data",
          "data": {
            "text/plain": [
              "Dl Completed...:   0%|          | 0/5 [00:00<?, ? file/s]"
            ],
            "application/vnd.jupyter.widget-view+json": {
              "version_major": 2,
              "version_minor": 0,
              "model_id": "6e6676a54eec4c8d810cd860c4cbba9f"
            }
          },
          "metadata": {}
        },
        {
          "output_type": "stream",
          "name": "stdout",
          "text": [
            "Dataset mnist downloaded and prepared to /root/tensorflow_datasets/mnist/3.0.1. Subsequent calls will reuse this data.\n"
          ]
        }
      ]
    },
    {
      "cell_type": "markdown",
      "metadata": {
        "id": "Z70w2KXjYk32"
      },
      "source": [
        "## Build the Model"
      ]
    },
    {
      "cell_type": "markdown",
      "metadata": {
        "id": "1MKu48lBM2Qg"
      },
      "source": [
        "You will now build a simple autoencoder to ingest the data. Like before, the encoder will compress the input and reconstructs it in the decoder output."
      ]
    },
    {
      "cell_type": "code",
      "metadata": {
        "id": "KRrE2BV4IpzR"
      },
      "source": [
        "def simple_autoencoder(inputs):\n",
        "  '''Builds the encoder and decoder using Dense layers.'''\n",
        "  encoder = tf.keras.layers.Dense(units=32, activation='relu')(inputs)\n",
        "  decoder = tf.keras.layers.Dense(units=784, activation='sigmoid')(encoder)\n",
        "\n",
        "  return encoder, decoder\n",
        "\n",
        "# set the input shape\n",
        "inputs =  tf.keras.layers.Input(shape=(784,))\n",
        "\n",
        "# get the encoder and decoder output\n",
        "encoder_output, decoder_output = simple_autoencoder(inputs)\n",
        "\n",
        "# setup the encoder because you will visualize its output later\n",
        "encoder_model = tf.keras.Model(inputs=inputs, outputs=encoder_output)\n",
        "\n",
        "# setup the autoencoder\n",
        "autoencoder_model = tf.keras.Model(inputs=inputs, outputs=decoder_output)"
      ],
      "execution_count": 4,
      "outputs": []
    },
    {
      "cell_type": "markdown",
      "metadata": {
        "id": "8k9OnSM4YxJd"
      },
      "source": [
        "## Compile the Model"
      ]
    },
    {
      "cell_type": "markdown",
      "metadata": {
        "id": "DvvDqY_XQPyb"
      },
      "source": [
        "You will setup the model for training. You can use binary crossentropy to measure the loss between pixel values that range from 0 (black) to 1 (white)."
      ]
    },
    {
      "cell_type": "code",
      "metadata": {
        "id": "cFwmAhWAYwcc"
      },
      "source": [
        "autoencoder_model.compile(\n",
        "    optimizer=tf.keras.optimizers.Adam(),\n",
        "    loss='binary_crossentropy')"
      ],
      "execution_count": 5,
      "outputs": []
    },
    {
      "cell_type": "markdown",
      "metadata": {
        "id": "zzLf0oQ1Y0cI"
      },
      "source": [
        "## Train the Model"
      ]
    },
    {
      "cell_type": "code",
      "metadata": {
        "id": "vsaSjlAgYz-7",
        "colab": {
          "base_uri": "https://localhost:8080/"
        },
        "outputId": "e7a75b59-d4b5-490a-d47a-59ff5f78c3fd"
      },
      "source": [
        "train_steps = 60000 // BATCH_SIZE\n",
        "simple_auto_history = autoencoder_model.fit(train_dataset, steps_per_epoch=train_steps, epochs=50)"
      ],
      "execution_count": 6,
      "outputs": [
        {
          "output_type": "stream",
          "name": "stdout",
          "text": [
            "Epoch 1/50\n",
            "468/468 [==============================] - 19s 23ms/step - loss: 0.2268\n",
            "Epoch 2/50\n",
            "468/468 [==============================] - 4s 8ms/step - loss: 0.1425\n",
            "Epoch 3/50\n",
            "468/468 [==============================] - 5s 10ms/step - loss: 0.1193\n",
            "Epoch 4/50\n",
            "468/468 [==============================] - 4s 9ms/step - loss: 0.1084\n",
            "Epoch 5/50\n",
            "468/468 [==============================] - 3s 7ms/step - loss: 0.1019\n",
            "Epoch 6/50\n",
            "468/468 [==============================] - 3s 6ms/step - loss: 0.0980\n",
            "Epoch 7/50\n",
            "468/468 [==============================] - 3s 6ms/step - loss: 0.0960\n",
            "Epoch 8/50\n",
            "468/468 [==============================] - 4s 9ms/step - loss: 0.0950\n",
            "Epoch 9/50\n",
            "468/468 [==============================] - 3s 7ms/step - loss: 0.0944\n",
            "Epoch 10/50\n",
            "468/468 [==============================] - 3s 6ms/step - loss: 0.0941\n",
            "Epoch 11/50\n",
            "468/468 [==============================] - 3s 6ms/step - loss: 0.0939\n",
            "Epoch 12/50\n",
            "468/468 [==============================] - 3s 6ms/step - loss: 0.0937\n",
            "Epoch 13/50\n",
            "468/468 [==============================] - 4s 9ms/step - loss: 0.0935\n",
            "Epoch 14/50\n",
            "468/468 [==============================] - 3s 6ms/step - loss: 0.0935\n",
            "Epoch 15/50\n",
            "468/468 [==============================] - 3s 7ms/step - loss: 0.0933\n",
            "Epoch 16/50\n",
            "468/468 [==============================] - 5s 10ms/step - loss: 0.0933\n",
            "Epoch 17/50\n",
            "468/468 [==============================] - 5s 12ms/step - loss: 0.0932\n",
            "Epoch 18/50\n",
            "468/468 [==============================] - 4s 9ms/step - loss: 0.0932\n",
            "Epoch 19/50\n",
            "468/468 [==============================] - 4s 9ms/step - loss: 0.0931\n",
            "Epoch 20/50\n",
            "468/468 [==============================] - 6s 13ms/step - loss: 0.0931\n",
            "Epoch 21/50\n",
            "468/468 [==============================] - 4s 9ms/step - loss: 0.0930\n",
            "Epoch 22/50\n",
            "468/468 [==============================] - 3s 6ms/step - loss: 0.0930\n",
            "Epoch 23/50\n",
            "468/468 [==============================] - 4s 9ms/step - loss: 0.0930\n",
            "Epoch 24/50\n",
            "468/468 [==============================] - 3s 7ms/step - loss: 0.0929\n",
            "Epoch 25/50\n",
            "468/468 [==============================] - 3s 6ms/step - loss: 0.0929\n",
            "Epoch 26/50\n",
            "468/468 [==============================] - 3s 6ms/step - loss: 0.0929\n",
            "Epoch 27/50\n",
            "468/468 [==============================] - 3s 6ms/step - loss: 0.0929\n",
            "Epoch 28/50\n",
            "468/468 [==============================] - 4s 9ms/step - loss: 0.0928\n",
            "Epoch 29/50\n",
            "468/468 [==============================] - 3s 6ms/step - loss: 0.0928\n",
            "Epoch 30/50\n",
            "468/468 [==============================] - 3s 6ms/step - loss: 0.0928\n",
            "Epoch 31/50\n",
            "468/468 [==============================] - 3s 7ms/step - loss: 0.0928\n",
            "Epoch 32/50\n",
            "468/468 [==============================] - 4s 9ms/step - loss: 0.0928\n",
            "Epoch 33/50\n",
            "468/468 [==============================] - 3s 6ms/step - loss: 0.0927\n",
            "Epoch 34/50\n",
            "468/468 [==============================] - 3s 6ms/step - loss: 0.0927\n",
            "Epoch 35/50\n",
            "468/468 [==============================] - 3s 6ms/step - loss: 0.0927\n",
            "Epoch 36/50\n",
            "468/468 [==============================] - 4s 8ms/step - loss: 0.0927\n",
            "Epoch 37/50\n",
            "468/468 [==============================] - 4s 8ms/step - loss: 0.0927\n",
            "Epoch 38/50\n",
            "468/468 [==============================] - 3s 6ms/step - loss: 0.0927\n",
            "Epoch 39/50\n",
            "468/468 [==============================] - 4s 8ms/step - loss: 0.0926\n",
            "Epoch 40/50\n",
            "468/468 [==============================] - 3s 6ms/step - loss: 0.0927\n",
            "Epoch 41/50\n",
            "468/468 [==============================] - 5s 10ms/step - loss: 0.0926\n",
            "Epoch 42/50\n",
            "468/468 [==============================] - 3s 6ms/step - loss: 0.0926\n",
            "Epoch 43/50\n",
            "468/468 [==============================] - 3s 6ms/step - loss: 0.0926\n",
            "Epoch 44/50\n",
            "468/468 [==============================] - 3s 6ms/step - loss: 0.0926\n",
            "Epoch 45/50\n",
            "468/468 [==============================] - 4s 8ms/step - loss: 0.0926\n",
            "Epoch 46/50\n",
            "468/468 [==============================] - 3s 7ms/step - loss: 0.0925\n",
            "Epoch 47/50\n",
            "468/468 [==============================] - 3s 6ms/step - loss: 0.0925\n",
            "Epoch 48/50\n",
            "468/468 [==============================] - 3s 6ms/step - loss: 0.0925\n",
            "Epoch 49/50\n",
            "468/468 [==============================] - 3s 7ms/step - loss: 0.0926\n",
            "Epoch 50/50\n",
            "468/468 [==============================] - 4s 9ms/step - loss: 0.0925\n"
          ]
        }
      ]
    },
    {
      "cell_type": "markdown",
      "metadata": {
        "id": "1_sKLXnBZFSc"
      },
      "source": [
        "## Display sample results\n",
        "\n",
        "You can now visualize the results. The utility functions below will help in plotting the encoded and decoded values."
      ]
    },
    {
      "cell_type": "code",
      "metadata": {
        "id": "5tgFgilORr0M"
      },
      "source": [
        "def display_one_row(disp_images, offset, shape=(28, 28)):\n",
        "  '''Display sample outputs in one row.'''\n",
        "  for idx, test_image in enumerate(disp_images):\n",
        "    plt.subplot(3, 10, offset + idx + 1)\n",
        "    plt.xticks([])\n",
        "    plt.yticks([])\n",
        "    test_image = np.reshape(test_image, shape)\n",
        "    plt.imshow(test_image, cmap='gray')\n",
        "\n",
        "\n",
        "def display_results(disp_input_images, disp_encoded, disp_predicted, enc_shape=(8,4)):\n",
        "  '''Displays the input, encoded, and decoded output values.'''\n",
        "  plt.figure(figsize=(15, 5))\n",
        "  display_one_row(disp_input_images, 0, shape=(28,28,))\n",
        "  display_one_row(disp_encoded, 10, shape=enc_shape)\n",
        "  display_one_row(disp_predicted, 20, shape=(28,28,))"
      ],
      "execution_count": 7,
      "outputs": []
    },
    {
      "cell_type": "code",
      "metadata": {
        "id": "qtQyQRxRN_hH",
        "colab": {
          "base_uri": "https://localhost:8080/",
          "height": 442
        },
        "outputId": "3b600133-211d-4b32-ed90-186b0a525601"
      },
      "source": [
        "# take 1 batch of the dataset\n",
        "test_dataset = test_dataset.take(1)\n",
        "\n",
        "# take the input images and put them in a list\n",
        "output_samples = []\n",
        "for input_image, image in tfds.as_numpy(test_dataset):\n",
        "      output_samples = input_image\n",
        "\n",
        "# pick 10 random numbers to be used as indices to the list above\n",
        "idxs = np.random.choice(BATCH_SIZE, size=10)\n",
        "\n",
        "# get the encoder output\n",
        "encoded_predicted = encoder_model.predict(test_dataset)\n",
        "\n",
        "# get a prediction for the test batch\n",
        "simple_predicted = autoencoder_model.predict(test_dataset)\n",
        "\n",
        "# display the 10 samples, encodings and decoded values!\n",
        "display_results(output_samples[idxs], encoded_predicted[idxs], simple_predicted[idxs])"
      ],
      "execution_count": 8,
      "outputs": [
        {
          "output_type": "stream",
          "name": "stdout",
          "text": [
            "1/1 [==============================] - 0s 105ms/step\n",
            "1/1 [==============================] - 0s 175ms/step\n"
          ]
        },
        {
          "output_type": "display_data",
          "data": {
            "text/plain": [
              "<Figure size 1500x500 with 30 Axes>"
            ],
            "image/png": "[encoded data removed]"
          },
          "metadata": {}
        }
      ]
    }
  ]
}